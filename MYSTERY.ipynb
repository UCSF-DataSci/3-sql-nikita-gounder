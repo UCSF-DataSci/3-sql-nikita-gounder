{
 "cells": [
  {
   "cell_type": "markdown",
   "id": "ebb94371",
   "metadata": {},
   "source": [
    "# SQL Murder Mystery\n",
    "\n",
    "## Can you find out whodunnit?\n",
    "\n",
    "![A decorative illustration of a detective looking at an evidence board.](https://mystery.knightlab.com/174092-clue-illustration.png)\n",
    "\n",
    "There's been a Murder in SQL City! The SQL Murder Mystery is designed to be both a self-directed lesson to learn SQL concepts and commands and a fun game for experienced SQL users to solve an intriguing crime.\n",
    "\n",
    "## SQL sleuths start here\n",
    "\n",
    "A crime has taken place and the detective needs your help. The detective gave you the crime scene report, but you somehow lost it. You vaguely remember that the crime was a **​murder​**that occurred sometime on ​**Jan.15, 2018​** and that it took place in ​**SQL City​**. Start by retrieving the corresponding crime scene report from the police department’s database.\n",
    "\n",
    "### Exploring the Database Structure\n",
    "\n",
    "Experienced SQL users can often use database queries to infer the structure of a database. But each database system has different ways of managing this information. The SQL Murder Mystery is built using SQLite. Use this SQL command to find the tables in the Murder Mystery database.\n",
    "\n",
    "Run this query to find the names of the tables in this database.\n",
    "\n",
    "This command is specific to SQLite. For other databases, you'll have to learn their specific syntax.\n"
   ]
  },
  {
   "cell_type": "code",
   "execution_count": 1,
   "id": "1370e6a4",
   "metadata": {},
   "outputs": [
    {
     "name": "stdout",
     "output_type": "stream",
     "text": [
      "Note: you may need to restart the kernel to use updated packages.\n"
     ]
    },
    {
     "data": {
      "text/html": [
       "<span style=\"None\">Connecting to &#x27;sqlite:///sql-murder-mystery.db&#x27;</span>"
      ],
      "text/plain": [
       "Connecting to 'sqlite:///sql-murder-mystery.db'"
      ]
     },
     "metadata": {},
     "output_type": "display_data"
    }
   ],
   "source": [
    "# Install required packages\n",
    "%pip install jupysql sqlalchemy pandas --quiet\n",
    "\n",
    "# Load SQL magic\n",
    "%load_ext sql\n",
    "\n",
    "# Connect to the database\n",
    "%sql sqlite:///sql-murder-mystery.db\n",
    "#%config SqlMagic.style = 'table'"
   ]
  },
  {
   "cell_type": "code",
   "execution_count": 2,
   "id": "2f0d9254",
   "metadata": {},
   "outputs": [
    {
     "data": {
      "text/html": [
       "<span style=\"None\">Running query in &#x27;sqlite:///sql-murder-mystery.db&#x27;</span>"
      ],
      "text/plain": [
       "Running query in 'sqlite:///sql-murder-mystery.db'"
      ]
     },
     "metadata": {},
     "output_type": "display_data"
    },
    {
     "data": {
      "text/html": [
       "<table>\n",
       "    <thead>\n",
       "        <tr>\n",
       "            <th>name</th>\n",
       "        </tr>\n",
       "    </thead>\n",
       "    <tbody>\n",
       "        <tr>\n",
       "            <td>crime_scene_report</td>\n",
       "        </tr>\n",
       "        <tr>\n",
       "            <td>drivers_license</td>\n",
       "        </tr>\n",
       "        <tr>\n",
       "            <td>facebook_event_checkin</td>\n",
       "        </tr>\n",
       "        <tr>\n",
       "            <td>interview</td>\n",
       "        </tr>\n",
       "        <tr>\n",
       "            <td>get_fit_now_member</td>\n",
       "        </tr>\n",
       "        <tr>\n",
       "            <td>sqlite_autoindex_get_fit_now_member_1</td>\n",
       "        </tr>\n",
       "        <tr>\n",
       "            <td>get_fit_now_check_in</td>\n",
       "        </tr>\n",
       "        <tr>\n",
       "            <td>solution</td>\n",
       "        </tr>\n",
       "        <tr>\n",
       "            <td>check_solution</td>\n",
       "        </tr>\n",
       "        <tr>\n",
       "            <td>income</td>\n",
       "        </tr>\n",
       "    </tbody>\n",
       "</table>\n",
       "<span style=\"font-style:italic;text-align:center;\">Truncated to <a href=\"https://jupysql.ploomber.io/en/latest/api/configuration.html#displaylimit\">displaylimit</a> of 10.</span>"
      ],
      "text/plain": [
       "+---------------------------------------+\n",
       "|                  name                 |\n",
       "+---------------------------------------+\n",
       "|           crime_scene_report          |\n",
       "|            drivers_license            |\n",
       "|         facebook_event_checkin        |\n",
       "|               interview               |\n",
       "|           get_fit_now_member          |\n",
       "| sqlite_autoindex_get_fit_now_member_1 |\n",
       "|          get_fit_now_check_in         |\n",
       "|                solution               |\n",
       "|             check_solution            |\n",
       "|                 income                |\n",
       "+---------------------------------------+\n",
       "Truncated to displaylimit of 10."
      ]
     },
     "execution_count": 2,
     "metadata": {},
     "output_type": "execute_result"
    }
   ],
   "source": [
    "%%sql\n",
    "SELECT name\n",
    "FROM sqlite_master"
   ]
  },
  {
   "cell_type": "markdown",
   "id": "c71b53aa",
   "metadata": {},
   "source": [
    "\n",
    "Besides knowing the table names, you need to know how each table is structured. The way this works is also dependent upon which database technology you use. Here's how you do it with SQLite.\n",
    "\n",
    "Run this query to find the structure of the `crime_scene_report` table\n",
    "\n",
    "Change the value of 'name' to see the structure of the other tables you learned about with the previous query.\n"
   ]
  },
  {
   "cell_type": "code",
   "execution_count": 5,
   "id": "a977d922",
   "metadata": {},
   "outputs": [
    {
     "data": {
      "text/html": [
       "<span style=\"None\">Running query in &#x27;sqlite:///sql-murder-mystery.db&#x27;</span>"
      ],
      "text/plain": [
       "Running query in 'sqlite:///sql-murder-mystery.db'"
      ]
     },
     "metadata": {},
     "output_type": "display_data"
    },
    {
     "data": {
      "text/html": [
       "<table>\n",
       "    <thead>\n",
       "        <tr>\n",
       "            <th>sql</th>\n",
       "        </tr>\n",
       "    </thead>\n",
       "    <tbody>\n",
       "        <tr>\n",
       "            <td>CREATE TABLE crime_scene_report (<br>        date integer,<br>        type text,<br>        description text,<br>        city text<br>    )</td>\n",
       "        </tr>\n",
       "    </tbody>\n",
       "</table>"
      ],
      "text/plain": [
       "+-----------------------------------+\n",
       "|                sql                |\n",
       "+-----------------------------------+\n",
       "| CREATE TABLE crime_scene_report ( |\n",
       "|               date integer,       |\n",
       "|                 type text,        |\n",
       "|             description text,     |\n",
       "|                 city text         |\n",
       "|                   )               |\n",
       "+-----------------------------------+"
      ]
     },
     "execution_count": 5,
     "metadata": {},
     "output_type": "execute_result"
    }
   ],
   "source": [
    "%%sql\n",
    "SELECT sql\n",
    "FROM sqlite_master\n",
    "where name = 'crime_scene_report'"
   ]
  },
  {
   "cell_type": "code",
   "execution_count": 16,
   "id": "11d6b272",
   "metadata": {},
   "outputs": [],
   "source": [
    "%config SqlMagic.displaylimit = 10\n",
    "#see full text"
   ]
  },
  {
   "cell_type": "code",
   "execution_count": 28,
   "id": "3a5475e4",
   "metadata": {},
   "outputs": [
    {
     "data": {
      "text/html": [
       "<span style=\"None\">Running query in &#x27;sqlite:///sql-murder-mystery.db&#x27;</span>"
      ],
      "text/plain": [
       "Running query in 'sqlite:///sql-murder-mystery.db'"
      ]
     },
     "metadata": {},
     "output_type": "display_data"
    },
    {
     "data": {
      "text/html": [
       "<table>\n",
       "    <thead>\n",
       "        <tr>\n",
       "            <th>date</th>\n",
       "            <th>type</th>\n",
       "            <th>description</th>\n",
       "            <th>city</th>\n",
       "        </tr>\n",
       "    </thead>\n",
       "    <tbody>\n",
       "        <tr>\n",
       "            <td>20180115</td>\n",
       "            <td>murder</td>\n",
       "            <td>Security footage shows that there were 2 witnesses. The first witness lives at the last house on \"Northwestern Dr\". The second witness, named Annabel, lives somewhere on \"Franklin Ave\".</td>\n",
       "            <td>SQL City</td>\n",
       "        </tr>\n",
       "    </tbody>\n",
       "</table>"
      ],
      "text/plain": [
       "+----------+--------+-------------------------------------------------------------------------------------------------------------------------------------------------------------------------------------------+----------+\n",
       "|   date   |  type  |                                                                                        description                                                                                        |   city   |\n",
       "+----------+--------+-------------------------------------------------------------------------------------------------------------------------------------------------------------------------------------------+----------+\n",
       "| 20180115 | murder | Security footage shows that there were 2 witnesses. The first witness lives at the last house on \"Northwestern Dr\". The second witness, named Annabel, lives somewhere on \"Franklin Ave\". | SQL City |\n",
       "+----------+--------+-------------------------------------------------------------------------------------------------------------------------------------------------------------------------------------------+----------+"
      ]
     },
     "execution_count": 28,
     "metadata": {},
     "output_type": "execute_result"
    }
   ],
   "source": [
    "%%sql\n",
    "SELECT *\n",
    "FROM crime_scene_report\n",
    "WHERE type=\"murder\" AND date=\"20180115\" AND city=\"SQL City\""
   ]
  },
  {
   "cell_type": "code",
   "execution_count": 48,
   "id": "fe8d454d",
   "metadata": {},
   "outputs": [
    {
     "data": {
      "text/html": [
       "<span style=\"None\">Running query in &#x27;sqlite:///sql-murder-mystery.db&#x27;</span>"
      ],
      "text/plain": [
       "Running query in 'sqlite:///sql-murder-mystery.db'"
      ]
     },
     "metadata": {},
     "output_type": "display_data"
    },
    {
     "data": {
      "text/html": [
       "<table>\n",
       "    <thead>\n",
       "        <tr>\n",
       "            <th>id</th>\n",
       "            <th>name</th>\n",
       "            <th>license_id</th>\n",
       "            <th>address_number</th>\n",
       "            <th>address_street_name</th>\n",
       "            <th>ssn</th>\n",
       "        </tr>\n",
       "    </thead>\n",
       "    <tbody>\n",
       "        <tr>\n",
       "            <td>16371</td>\n",
       "            <td>Annabel Miller</td>\n",
       "            <td>490173</td>\n",
       "            <td>103</td>\n",
       "            <td>Franklin Ave</td>\n",
       "            <td>318771143</td>\n",
       "        </tr>\n",
       "    </tbody>\n",
       "</table>"
      ],
      "text/plain": [
       "+-------+----------------+------------+----------------+---------------------+-----------+\n",
       "|   id  |      name      | license_id | address_number | address_street_name |    ssn    |\n",
       "+-------+----------------+------------+----------------+---------------------+-----------+\n",
       "| 16371 | Annabel Miller |   490173   |      103       |     Franklin Ave    | 318771143 |\n",
       "+-------+----------------+------------+----------------+---------------------+-----------+"
      ]
     },
     "execution_count": 48,
     "metadata": {},
     "output_type": "execute_result"
    }
   ],
   "source": [
    "%%sql\n",
    "SELECT *\n",
    "FROM person\n",
    "WHERE address_street_name = \"Franklin Ave\" AND name LIKE \"%Annabel%\";"
   ]
  },
  {
   "cell_type": "code",
   "execution_count": 42,
   "id": "57c54231",
   "metadata": {},
   "outputs": [
    {
     "data": {
      "text/html": [
       "<span style=\"None\">Running query in &#x27;sqlite:///sql-murder-mystery.db&#x27;</span>"
      ],
      "text/plain": [
       "Running query in 'sqlite:///sql-murder-mystery.db'"
      ]
     },
     "metadata": {},
     "output_type": "display_data"
    },
    {
     "data": {
      "text/html": [
       "<table>\n",
       "    <thead>\n",
       "        <tr>\n",
       "            <th>id</th>\n",
       "            <th>name</th>\n",
       "            <th>license_id</th>\n",
       "            <th>address_number</th>\n",
       "            <th>address_street_name</th>\n",
       "            <th>ssn</th>\n",
       "        </tr>\n",
       "    </thead>\n",
       "    <tbody>\n",
       "        <tr>\n",
       "            <td>14887</td>\n",
       "            <td>Morty Schapiro</td>\n",
       "            <td>118009</td>\n",
       "            <td>4919</td>\n",
       "            <td>Northwestern Dr</td>\n",
       "            <td>111564949</td>\n",
       "        </tr>\n",
       "    </tbody>\n",
       "</table>"
      ],
      "text/plain": [
       "+-------+----------------+------------+----------------+---------------------+-----------+\n",
       "|   id  |      name      | license_id | address_number | address_street_name |    ssn    |\n",
       "+-------+----------------+------------+----------------+---------------------+-----------+\n",
       "| 14887 | Morty Schapiro |   118009   |      4919      |   Northwestern Dr   | 111564949 |\n",
       "+-------+----------------+------------+----------------+---------------------+-----------+"
      ]
     },
     "execution_count": 42,
     "metadata": {},
     "output_type": "execute_result"
    }
   ],
   "source": [
    "%%sql\n",
    "SELECT *\n",
    "FROM person\n",
    "WHERE address_street_name = \"Northwestern Dr\" \n",
    "ORDER BY address_number DESC \n",
    "LIMIT 1"
   ]
  },
  {
   "cell_type": "code",
   "execution_count": 47,
   "id": "7a2e5e3e",
   "metadata": {},
   "outputs": [
    {
     "data": {
      "text/html": [
       "<span style=\"None\">Running query in &#x27;sqlite:///sql-murder-mystery.db&#x27;</span>"
      ],
      "text/plain": [
       "Running query in 'sqlite:///sql-murder-mystery.db'"
      ]
     },
     "metadata": {},
     "output_type": "display_data"
    },
    {
     "data": {
      "text/html": [
       "<table>\n",
       "    <thead>\n",
       "        <tr>\n",
       "            <th>person_id</th>\n",
       "            <th>transcript</th>\n",
       "        </tr>\n",
       "    </thead>\n",
       "    <tbody>\n",
       "        <tr>\n",
       "            <td>14887</td>\n",
       "            <td>I heard a gunshot and then saw a man run out. He had a \"Get Fit Now Gym\" bag. The membership number on the bag started with \"48Z\". Only gold members have those bags. The man got into a car with a plate that included \"H42W\".</td>\n",
       "        </tr>\n",
       "        <tr>\n",
       "            <td>16371</td>\n",
       "            <td>I saw the murder happen, and I recognized the killer from my gym when I was working out last week on January the 9th.</td>\n",
       "        </tr>\n",
       "    </tbody>\n",
       "</table>"
      ],
      "text/plain": [
       "+-----------+---------------------------------------------------------------------------------------------------------------------------------------------------------------------------------------------------------------------------------+\n",
       "| person_id |                                                                                                            transcript                                                                                                           |\n",
       "+-----------+---------------------------------------------------------------------------------------------------------------------------------------------------------------------------------------------------------------------------------+\n",
       "|   14887   | I heard a gunshot and then saw a man run out. He had a \"Get Fit Now Gym\" bag. The membership number on the bag started with \"48Z\". Only gold members have those bags. The man got into a car with a plate that included \"H42W\". |\n",
       "|   16371   |                                                      I saw the murder happen, and I recognized the killer from my gym when I was working out last week on January the 9th.                                                      |\n",
       "+-----------+---------------------------------------------------------------------------------------------------------------------------------------------------------------------------------------------------------------------------------+"
      ]
     },
     "execution_count": 47,
     "metadata": {},
     "output_type": "execute_result"
    }
   ],
   "source": [
    "%%sql\n",
    "SELECT *\n",
    "FROM interview\n",
    "WHERE person_id IN (\"16371\",\"14887\")"
   ]
  },
  {
   "cell_type": "code",
   "execution_count": 50,
   "id": "58f8b89d",
   "metadata": {},
   "outputs": [
    {
     "data": {
      "text/html": [
       "<span style=\"None\">Running query in &#x27;sqlite:///sql-murder-mystery.db&#x27;</span>"
      ],
      "text/plain": [
       "Running query in 'sqlite:///sql-murder-mystery.db'"
      ]
     },
     "metadata": {},
     "output_type": "display_data"
    },
    {
     "data": {
      "text/html": [
       "<table>\n",
       "    <thead>\n",
       "        <tr>\n",
       "            <th>membership_id</th>\n",
       "            <th>check_in_date</th>\n",
       "            <th>check_in_time</th>\n",
       "            <th>check_out_time</th>\n",
       "        </tr>\n",
       "    </thead>\n",
       "    <tbody>\n",
       "        <tr>\n",
       "            <td>48Z7A</td>\n",
       "            <td>20180109</td>\n",
       "            <td>1600</td>\n",
       "            <td>1730</td>\n",
       "        </tr>\n",
       "        <tr>\n",
       "            <td>48Z55</td>\n",
       "            <td>20180109</td>\n",
       "            <td>1530</td>\n",
       "            <td>1700</td>\n",
       "        </tr>\n",
       "    </tbody>\n",
       "</table>"
      ],
      "text/plain": [
       "+---------------+---------------+---------------+----------------+\n",
       "| membership_id | check_in_date | check_in_time | check_out_time |\n",
       "+---------------+---------------+---------------+----------------+\n",
       "|     48Z7A     |    20180109   |      1600     |      1730      |\n",
       "|     48Z55     |    20180109   |      1530     |      1700      |\n",
       "+---------------+---------------+---------------+----------------+"
      ]
     },
     "execution_count": 50,
     "metadata": {},
     "output_type": "execute_result"
    }
   ],
   "source": [
    "%%sql \n",
    "SELECT *\n",
    "FROM get_fit_now_check_in\n",
    "WHERE membership_id LIKE \"%48Z%\" AND check_in_date = \"20180109\""
   ]
  },
  {
   "cell_type": "code",
   "execution_count": 53,
   "id": "6652e498",
   "metadata": {},
   "outputs": [
    {
     "data": {
      "text/html": [
       "<span style=\"None\">Running query in &#x27;sqlite:///sql-murder-mystery.db&#x27;</span>"
      ],
      "text/plain": [
       "Running query in 'sqlite:///sql-murder-mystery.db'"
      ]
     },
     "metadata": {},
     "output_type": "display_data"
    },
    {
     "data": {
      "text/html": [
       "<table>\n",
       "    <thead>\n",
       "        <tr>\n",
       "            <th>id</th>\n",
       "            <th>person_id</th>\n",
       "            <th>name</th>\n",
       "            <th>membership_start_date</th>\n",
       "            <th>membership_status</th>\n",
       "        </tr>\n",
       "    </thead>\n",
       "    <tbody>\n",
       "        <tr>\n",
       "            <td>48Z55</td>\n",
       "            <td>67318</td>\n",
       "            <td>Jeremy Bowers</td>\n",
       "            <td>20160101</td>\n",
       "            <td>gold</td>\n",
       "        </tr>\n",
       "        <tr>\n",
       "            <td>48Z7A</td>\n",
       "            <td>28819</td>\n",
       "            <td>Joe Germuska</td>\n",
       "            <td>20160305</td>\n",
       "            <td>gold</td>\n",
       "        </tr>\n",
       "    </tbody>\n",
       "</table>"
      ],
      "text/plain": [
       "+-------+-----------+---------------+-----------------------+-------------------+\n",
       "|   id  | person_id |      name     | membership_start_date | membership_status |\n",
       "+-------+-----------+---------------+-----------------------+-------------------+\n",
       "| 48Z55 |   67318   | Jeremy Bowers |        20160101       |        gold       |\n",
       "| 48Z7A |   28819   |  Joe Germuska |        20160305       |        gold       |\n",
       "+-------+-----------+---------------+-----------------------+-------------------+"
      ]
     },
     "execution_count": 53,
     "metadata": {},
     "output_type": "execute_result"
    }
   ],
   "source": [
    "%%sql \n",
    "SELECT *\n",
    "FROM get_fit_now_member\n",
    "WHERE id IN (\"48Z7A\",\"48Z55\")"
   ]
  },
  {
   "cell_type": "code",
   "execution_count": 68,
   "id": "764244a3",
   "metadata": {},
   "outputs": [
    {
     "data": {
      "text/html": [
       "<span style=\"None\">Running query in &#x27;sqlite:///sql-murder-mystery.db&#x27;</span>"
      ],
      "text/plain": [
       "Running query in 'sqlite:///sql-murder-mystery.db'"
      ]
     },
     "metadata": {},
     "output_type": "display_data"
    },
    {
     "data": {
      "text/html": [
       "<table>\n",
       "    <thead>\n",
       "        <tr>\n",
       "            <th>id</th>\n",
       "            <th>name</th>\n",
       "            <th>license_id</th>\n",
       "            <th>address_number</th>\n",
       "            <th>address_street_name</th>\n",
       "            <th>ssn</th>\n",
       "            <th>id_1</th>\n",
       "            <th>age</th>\n",
       "            <th>height</th>\n",
       "            <th>eye_color</th>\n",
       "            <th>hair_color</th>\n",
       "            <th>gender</th>\n",
       "            <th>plate_number</th>\n",
       "            <th>car_make</th>\n",
       "            <th>car_model</th>\n",
       "        </tr>\n",
       "    </thead>\n",
       "    <tbody>\n",
       "        <tr>\n",
       "            <td>67318</td>\n",
       "            <td>Jeremy Bowers</td>\n",
       "            <td>423327</td>\n",
       "            <td>530</td>\n",
       "            <td>Washington Pl, Apt 3A</td>\n",
       "            <td>871539279</td>\n",
       "            <td>423327</td>\n",
       "            <td>30</td>\n",
       "            <td>70</td>\n",
       "            <td>brown</td>\n",
       "            <td>brown</td>\n",
       "            <td>male</td>\n",
       "            <td>0H42W2</td>\n",
       "            <td>Chevrolet</td>\n",
       "            <td>Spark LS</td>\n",
       "        </tr>\n",
       "    </tbody>\n",
       "</table>"
      ],
      "text/plain": [
       "+-------+---------------+------------+----------------+-----------------------+-----------+--------+-----+--------+-----------+------------+--------+--------------+-----------+-----------+\n",
       "|   id  |      name     | license_id | address_number |  address_street_name  |    ssn    |  id_1  | age | height | eye_color | hair_color | gender | plate_number |  car_make | car_model |\n",
       "+-------+---------------+------------+----------------+-----------------------+-----------+--------+-----+--------+-----------+------------+--------+--------------+-----------+-----------+\n",
       "| 67318 | Jeremy Bowers |   423327   |      530       | Washington Pl, Apt 3A | 871539279 | 423327 |  30 |   70   |   brown   |   brown    |  male  |    0H42W2    | Chevrolet |  Spark LS |\n",
       "+-------+---------------+------------+----------------+-----------------------+-----------+--------+-----+--------+-----------+------------+--------+--------------+-----------+-----------+"
      ]
     },
     "execution_count": 68,
     "metadata": {},
     "output_type": "execute_result"
    }
   ],
   "source": [
    "%%sql \n",
    "SELECT *\n",
    "FROM person\n",
    "JOIN drivers_license ON person.license_id = drivers_license.id\n",
    "WHERE name IN (\"Jeremy Bowers\", \"Joe Germuska\")\n",
    "--omg Joe doesnt have a driver's license' and his number plate contains \"H42W\""
   ]
  },
  {
   "cell_type": "markdown",
   "id": "462d3ddf",
   "metadata": {},
   "source": [
    "Jeremy Bowers is the killer !!"
   ]
  },
  {
   "cell_type": "markdown",
   "id": "d9789bc7",
   "metadata": {},
   "source": [
    "\n",
    "### The rest is up to you!\n",
    "\n",
    "If you're really comfortable with SQL, you can probably get it from here. To help, here is the schema diagram:\n",
    "\n",
    "![schema diagram](schema.png)\n",
    "\n",
    "Use your knowledge of the database schema and SQL commands to find out who committed the murder.\n",
    "### Check your solution\n",
    "\n",
    "Did you find the killer? When you think you know the answer, submit your suspect using the following code and find out if you're right.\n"
   ]
  },
  {
   "cell_type": "code",
   "execution_count": 95,
   "id": "830ea4a6",
   "metadata": {},
   "outputs": [
    {
     "data": {
      "text/html": [
       "<span style=\"None\">Running query in &#x27;sqlite:///sql-murder-mystery.db&#x27;</span>"
      ],
      "text/plain": [
       "Running query in 'sqlite:///sql-murder-mystery.db'"
      ]
     },
     "metadata": {},
     "output_type": "display_data"
    },
    {
     "data": {
      "text/html": [
       "<span style=\"color: green\">1 rows affected.</span>"
      ],
      "text/plain": [
       "1 rows affected."
      ]
     },
     "metadata": {},
     "output_type": "display_data"
    },
    {
     "data": {
      "text/html": [
       "<table>\n",
       "    <thead>\n",
       "        <tr>\n",
       "            <th>value</th>\n",
       "        </tr>\n",
       "    </thead>\n",
       "    <tbody>\n",
       "        <tr>\n",
       "            <td>Congrats, you found the brains behind the murder! Everyone in SQL City hails you as the greatest SQL detective of all time. Time to break out the champagne!</td>\n",
       "        </tr>\n",
       "    </tbody>\n",
       "</table>"
      ],
      "text/plain": [
       "+--------------------------------------------------------------------------------------------------------------------------------------------------------------+\n",
       "|                                                                            value                                                                             |\n",
       "+--------------------------------------------------------------------------------------------------------------------------------------------------------------+\n",
       "| Congrats, you found the brains behind the murder! Everyone in SQL City hails you as the greatest SQL detective of all time. Time to break out the champagne! |\n",
       "+--------------------------------------------------------------------------------------------------------------------------------------------------------------+"
      ]
     },
     "execution_count": 95,
     "metadata": {},
     "output_type": "execute_result"
    }
   ],
   "source": [
    "%%sql\n",
    "INSERT INTO solution VALUES (1, 'Miranda Priestly');\n",
    "SELECT value FROM solution;"
   ]
  },
  {
   "cell_type": "code",
   "execution_count": 73,
   "id": "284072e2",
   "metadata": {},
   "outputs": [
    {
     "data": {
      "text/html": [
       "<span style=\"None\">Running query in &#x27;sqlite:///sql-murder-mystery.db&#x27;</span>"
      ],
      "text/plain": [
       "Running query in 'sqlite:///sql-murder-mystery.db'"
      ]
     },
     "metadata": {},
     "output_type": "display_data"
    },
    {
     "data": {
      "text/html": [
       "<table>\n",
       "    <thead>\n",
       "        <tr>\n",
       "            <th>person_id</th>\n",
       "            <th>transcript</th>\n",
       "        </tr>\n",
       "    </thead>\n",
       "    <tbody>\n",
       "        <tr>\n",
       "            <td>67318</td>\n",
       "            <td>I was hired by a woman with a lot of money. I don't know her name but I know she's around 5'5\" (65\") or 5'7\" (67\"). She has red hair and she drives a Tesla Model S. I know that she attended the SQL Symphony Concert 3 times in December 2017.<br></td>\n",
       "        </tr>\n",
       "    </tbody>\n",
       "</table>"
      ],
      "text/plain": [
       "+-----------+--------------------------------------------------------------------------------------------------------------------------------------------------------------------------------------------------------------------------------------------------+\n",
       "| person_id |                                                                                                                    transcript                                                                                                                    |\n",
       "+-----------+--------------------------------------------------------------------------------------------------------------------------------------------------------------------------------------------------------------------------------------------------+\n",
       "|   67318   | I was hired by a woman with a lot of money. I don't know her name but I know she's around 5'5\" (65\") or 5'7\" (67\"). She has red hair and she drives a Tesla Model S. I know that she attended the SQL Symphony Concert 3 times in December 2017. |\n",
       "|           |                                                                                                                                                                                                                                                  |\n",
       "+-----------+--------------------------------------------------------------------------------------------------------------------------------------------------------------------------------------------------------------------------------------------------+"
      ]
     },
     "execution_count": 73,
     "metadata": {},
     "output_type": "execute_result"
    }
   ],
   "source": [
    "%%sql\n",
    "SELECT *\n",
    "FROM interview\n",
    "WHERE person_id =\"67318\""
   ]
  },
  {
   "cell_type": "code",
   "execution_count": 94,
   "id": "74c3642c",
   "metadata": {},
   "outputs": [
    {
     "data": {
      "text/html": [
       "<span style=\"None\">Running query in &#x27;sqlite:///sql-murder-mystery.db&#x27;</span>"
      ],
      "text/plain": [
       "Running query in 'sqlite:///sql-murder-mystery.db'"
      ]
     },
     "metadata": {},
     "output_type": "display_data"
    },
    {
     "data": {
      "text/html": [
       "<table>\n",
       "    <thead>\n",
       "        <tr>\n",
       "            <th>id</th>\n",
       "            <th>name</th>\n",
       "            <th>license_id</th>\n",
       "            <th>address_number</th>\n",
       "            <th>address_street_name</th>\n",
       "            <th>ssn</th>\n",
       "            <th>id_1</th>\n",
       "            <th>age</th>\n",
       "            <th>height</th>\n",
       "            <th>eye_color</th>\n",
       "            <th>hair_color</th>\n",
       "            <th>gender</th>\n",
       "            <th>plate_number</th>\n",
       "            <th>car_make</th>\n",
       "            <th>car_model</th>\n",
       "            <th>ssn_1</th>\n",
       "            <th>annual_income</th>\n",
       "            <th>person_id</th>\n",
       "            <th>event_id</th>\n",
       "            <th>event_name</th>\n",
       "            <th>date</th>\n",
       "        </tr>\n",
       "    </thead>\n",
       "    <tbody>\n",
       "        <tr>\n",
       "            <td>99716</td>\n",
       "            <td>Miranda Priestly</td>\n",
       "            <td>202298</td>\n",
       "            <td>1883</td>\n",
       "            <td>Golden Ave</td>\n",
       "            <td>987756388</td>\n",
       "            <td>202298</td>\n",
       "            <td>68</td>\n",
       "            <td>66</td>\n",
       "            <td>green</td>\n",
       "            <td>red</td>\n",
       "            <td>female</td>\n",
       "            <td>500123</td>\n",
       "            <td>Tesla</td>\n",
       "            <td>Model S</td>\n",
       "            <td>987756388</td>\n",
       "            <td>310000</td>\n",
       "            <td>99716</td>\n",
       "            <td>1143</td>\n",
       "            <td>SQL Symphony Concert</td>\n",
       "            <td>20171206</td>\n",
       "        </tr>\n",
       "        <tr>\n",
       "            <td>99716</td>\n",
       "            <td>Miranda Priestly</td>\n",
       "            <td>202298</td>\n",
       "            <td>1883</td>\n",
       "            <td>Golden Ave</td>\n",
       "            <td>987756388</td>\n",
       "            <td>202298</td>\n",
       "            <td>68</td>\n",
       "            <td>66</td>\n",
       "            <td>green</td>\n",
       "            <td>red</td>\n",
       "            <td>female</td>\n",
       "            <td>500123</td>\n",
       "            <td>Tesla</td>\n",
       "            <td>Model S</td>\n",
       "            <td>987756388</td>\n",
       "            <td>310000</td>\n",
       "            <td>99716</td>\n",
       "            <td>1143</td>\n",
       "            <td>SQL Symphony Concert</td>\n",
       "            <td>20171212</td>\n",
       "        </tr>\n",
       "        <tr>\n",
       "            <td>99716</td>\n",
       "            <td>Miranda Priestly</td>\n",
       "            <td>202298</td>\n",
       "            <td>1883</td>\n",
       "            <td>Golden Ave</td>\n",
       "            <td>987756388</td>\n",
       "            <td>202298</td>\n",
       "            <td>68</td>\n",
       "            <td>66</td>\n",
       "            <td>green</td>\n",
       "            <td>red</td>\n",
       "            <td>female</td>\n",
       "            <td>500123</td>\n",
       "            <td>Tesla</td>\n",
       "            <td>Model S</td>\n",
       "            <td>987756388</td>\n",
       "            <td>310000</td>\n",
       "            <td>99716</td>\n",
       "            <td>1143</td>\n",
       "            <td>SQL Symphony Concert</td>\n",
       "            <td>20171229</td>\n",
       "        </tr>\n",
       "    </tbody>\n",
       "</table>"
      ],
      "text/plain": [
       "+-------+------------------+------------+----------------+---------------------+-----------+--------+-----+--------+-----------+------------+--------+--------------+----------+-----------+-----------+---------------+-----------+----------+----------------------+----------+\n",
       "|   id  |       name       | license_id | address_number | address_street_name |    ssn    |  id_1  | age | height | eye_color | hair_color | gender | plate_number | car_make | car_model |   ssn_1   | annual_income | person_id | event_id |      event_name      |   date   |\n",
       "+-------+------------------+------------+----------------+---------------------+-----------+--------+-----+--------+-----------+------------+--------+--------------+----------+-----------+-----------+---------------+-----------+----------+----------------------+----------+\n",
       "| 99716 | Miranda Priestly |   202298   |      1883      |      Golden Ave     | 987756388 | 202298 |  68 |   66   |   green   |    red     | female |    500123    |  Tesla   |  Model S  | 987756388 |     310000    |   99716   |   1143   | SQL Symphony Concert | 20171206 |\n",
       "| 99716 | Miranda Priestly |   202298   |      1883      |      Golden Ave     | 987756388 | 202298 |  68 |   66   |   green   |    red     | female |    500123    |  Tesla   |  Model S  | 987756388 |     310000    |   99716   |   1143   | SQL Symphony Concert | 20171212 |\n",
       "| 99716 | Miranda Priestly |   202298   |      1883      |      Golden Ave     | 987756388 | 202298 |  68 |   66   |   green   |    red     | female |    500123    |  Tesla   |  Model S  | 987756388 |     310000    |   99716   |   1143   | SQL Symphony Concert | 20171229 |\n",
       "+-------+------------------+------------+----------------+---------------------+-----------+--------+-----+--------+-----------+------------+--------+--------------+----------+-----------+-----------+---------------+-----------+----------+----------------------+----------+"
      ]
     },
     "execution_count": 94,
     "metadata": {},
     "output_type": "execute_result"
    }
   ],
   "source": [
    "%%sql\n",
    "SELECT DISTINCT *\n",
    "FROM person \n",
    "JOIN drivers_license ON person.license_id = drivers_license.id\n",
    "INNER JOIN income ON person.ssn = income.ssn --JOIN same as INNER JOIN\n",
    "JOIN facebook_event_checkin ON person.id = facebook_event_checkin.person_id \n",
    "WHERE hair_color =\"red\" AND car_make=\"Tesla\" AND gender=\"female\"\n"
   ]
  },
  {
   "cell_type": "markdown",
   "id": "cb1bd2f1",
   "metadata": {},
   "source": [
    "OMG it's Miranda Priestly !! She is the mastermind behind the murder."
   ]
  }
 ],
 "metadata": {
  "kernelspec": {
   "display_name": "Python 3",
   "language": "python",
   "name": "python3"
  },
  "language_info": {
   "codemirror_mode": {
    "name": "ipython",
    "version": 3
   },
   "file_extension": ".py",
   "mimetype": "text/x-python",
   "name": "python",
   "nbconvert_exporter": "python",
   "pygments_lexer": "ipython3",
   "version": "3.12.1"
  }
 },
 "nbformat": 4,
 "nbformat_minor": 5
}
